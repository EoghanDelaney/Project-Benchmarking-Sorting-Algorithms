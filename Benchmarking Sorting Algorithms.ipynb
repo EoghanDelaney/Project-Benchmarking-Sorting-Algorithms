{
 "cells": [
  {
   "cell_type": "markdown",
   "metadata": {},
   "source": [
    "# Project: Benchmarking Sorting Algorithms"
   ]
  },
  {
   "cell_type": "markdown",
   "metadata": {},
   "source": [
    "## Introduction\n",
    "***"
   ]
  },
  {
   "cell_type": "markdown",
   "metadata": {},
   "source": [
    "### Concepts of Sorting "
   ]
  },
  {
   "cell_type": "markdown",
   "metadata": {},
   "source": [
    "1. Complexity\n",
    "2. Performance\n",
    "3. In-place sorting\n",
    "4. Stable sorting\n",
    "5. Comparator functions\n",
    "6. Comparison-based sorts\n",
    "7. Non-comparison-based sorts"
   ]
  },
  {
   "cell_type": "markdown",
   "metadata": {},
   "source": [
    "## Sorting Algorithms\n",
    "***"
   ]
  },
  {
   "cell_type": "markdown",
   "metadata": {},
   "source": [
    "### Bubble Sort\n"
   ]
  },
  {
   "cell_type": "markdown",
   "metadata": {},
   "source": [
    "1. Space and Time complexity\n",
    "2. How it works using diagrams\n",
    "3. Examples"
   ]
  },
  {
   "cell_type": "markdown",
   "metadata": {},
   "source": [
    "### Merge Sort"
   ]
  },
  {
   "cell_type": "markdown",
   "metadata": {},
   "source": [
    "1. Space and Time complexity\n",
    "2. How it works using diagrams\n",
    "3. Examples"
   ]
  },
  {
   "cell_type": "markdown",
   "metadata": {},
   "source": [
    "### Count Sort"
   ]
  },
  {
   "cell_type": "markdown",
   "metadata": {},
   "source": [
    "1. Space and Time complexity\n",
    "2. How it works using diagrams\n",
    "3. Examples"
   ]
  },
  {
   "cell_type": "markdown",
   "metadata": {},
   "source": [
    "### Selection Sort"
   ]
  },
  {
   "cell_type": "markdown",
   "metadata": {},
   "source": [
    "1. Space and Time complexity\n",
    "2. How it works using diagrams\n",
    "3. Examples"
   ]
  },
  {
   "cell_type": "markdown",
   "metadata": {},
   "source": [
    "### Insertion Sort"
   ]
  },
  {
   "cell_type": "markdown",
   "metadata": {},
   "source": [
    "1. Space and Time complexity\n",
    "2. How it works using diagrams\n",
    "3. Examples"
   ]
  },
  {
   "cell_type": "markdown",
   "metadata": {},
   "source": [
    "## Implementation & Benchmarking\n",
    "***"
   ]
  },
  {
   "cell_type": "code",
   "execution_count": 1,
   "metadata": {},
   "outputs": [],
   "source": [
    "#Import packages required\n",
    "import numpy as np\n",
    "import pandas as pd    \n",
    "import time"
   ]
  },
  {
   "cell_type": "code",
   "execution_count": 2,
   "metadata": {},
   "outputs": [],
   "source": [
    "######################  ALGORITHIMS ###################################################\n",
    "#The below Bubble sort is adapted from the following website:\n",
    "#https://www.geeksforgeeks.org/python-program-for-bubble-sort/\n",
    "def bubble_sort(arr):\n",
    "    num_in_list = len(arr)\n",
    "    for i in range(num_in_list):\n",
    "        for j in range(0, num_in_list-i-1):\n",
    "            if arr[j] > arr[j+1] :\n",
    "                arr[j], arr[j+1] = arr[j+1], arr[j]\n"
   ]
  },
  {
   "cell_type": "code",
   "execution_count": 3,
   "metadata": {},
   "outputs": [],
   "source": [
    "#The below Merge sort is adapted from the following website:\n",
    "#https://www.educative.io/edpresso/merge-sort-in-python\n",
    "def merge_sort(arr):\n",
    "    if len(arr) > 1:\n",
    "        mid = len(arr) // 2\n",
    "        left = arr[:mid]\n",
    "        right = arr[mid:]\n",
    "\n",
    "       \n",
    "        merge_sort(left)\n",
    "        merge_sort(right)\n",
    "\n",
    "       \n",
    "        i = 0\n",
    "        j = 0\n",
    "        \n",
    "        \n",
    "        k = 0\n",
    "        \n",
    "        while i < len(left) and j < len(right):\n",
    "            if left[i] < right[j]:\n",
    "              \n",
    "              arr[k] = left[i]\n",
    "             \n",
    "              i += 1\n",
    "            else:\n",
    "                arr[k] = right[j]\n",
    "                j += 1\n",
    "            \n",
    "            k += 1\n",
    "\n",
    "       \n",
    "        while i < len(left):\n",
    "            arr[k] = left[i]\n",
    "            i += 1\n",
    "            k += 1\n",
    "\n",
    "        while j < len(right):\n",
    "            arr[k]=right[j]\n",
    "            j += 1\n",
    "            k += 1"
   ]
  },
  {
   "cell_type": "code",
   "execution_count": 4,
   "metadata": {},
   "outputs": [],
   "source": [
    "#The below Counting sort is adapted from the following website:\n",
    "#https://www.w3resource.com/python-exercises/data-structures-and-algorithms/python-search-and-sorting-exercise-10.php\n",
    "def count_sort(arr):  \n",
    "    max_val = max(arr)\n",
    "    \n",
    "    m = max_val + 1\n",
    "    count = [0] * m                \n",
    "    \n",
    "    for a in arr:\n",
    "    \n",
    "        count[a] += 1             \n",
    "    i = 0\n",
    "    for a in range(m):            \n",
    "        for c in range(count[a]):  \n",
    "            arr[i] = a\n",
    "            i += 1\n",
    "    return arr"
   ]
  },
  {
   "cell_type": "code",
   "execution_count": 5,
   "metadata": {},
   "outputs": [],
   "source": [
    "def selection_sort(arr):\n",
    "    #do something\n",
    "    arr\n"
   ]
  },
  {
   "cell_type": "code",
   "execution_count": 6,
   "metadata": {},
   "outputs": [],
   "source": [
    "def insertion_sort(arr):\n",
    "    return arr\n",
    "\n"
   ]
  },
  {
   "cell_type": "code",
   "execution_count": 7,
   "metadata": {},
   "outputs": [],
   "source": [
    "###################### GENERATE RANDOM DATA ############################################\n",
    "#generate random int's in array of lenfth number n\n",
    "def generate_arr(n):\n",
    "    arr = np.random.randint(0,100,n).tolist()\n",
    "    return arr"
   ]
  },
  {
   "cell_type": "code",
   "execution_count": 57,
   "metadata": {},
   "outputs": [],
   "source": [
    "####################### BENCHMARKING ###################################################\n",
    "bench_values_time = []\n",
    "\n",
    "def evaluate(func, run_avg):\n",
    "    #val_n = [100, 250, 500, 750, 1000]\n",
    "    val_n = [100, 250, 500, 750, 1000, 1250, 2500, 3750, 5000]\n",
    "    for n in val_n:\n",
    "        arr = generate_arr(n)\n",
    "        start_time = time.time()\n",
    "        for i in range(0, run_avg):\n",
    "            func(arr)\n",
    "        finish_time = time.time()\n",
    "        time_elapsed = finish_time - start_time\n",
    "        time_elapsed = round((time_elapsed*1000)/run_avg,3)\n",
    "        bench_values_time.append([func.__name__, n, time_elapsed])\n",
    "        print(str(n), \" Number Size - Time Taken:\", time_elapsed)\n"
   ]
  },
  {
   "cell_type": "code",
   "execution_count": 58,
   "metadata": {},
   "outputs": [],
   "source": [
    "def main():\n",
    "    function_list = [bubble_sort, merge_sort, count_sort]\n",
    "    for fun in function_list:\n",
    "        print(fun.__name__)\n",
    "        evaluate(fun, 9)\n",
    "    "
   ]
  },
  {
   "cell_type": "code",
   "execution_count": 59,
   "metadata": {},
   "outputs": [
    {
     "name": "stdout",
     "output_type": "stream",
     "text": [
      "bubble_sort\n",
      "100  Number Size - Time Taken: 0.999\n",
      "250  Number Size - Time Taken: 4.886\n",
      "500  Number Size - Time Taken: 13.899\n",
      "750  Number Size - Time Taken: 33.205\n",
      "1000  Number Size - Time Taken: 58.799\n",
      "1250  Number Size - Time Taken: 117.6\n",
      "2500  Number Size - Time Taken: 446.302\n",
      "3750  Number Size - Time Taken: 1014.864\n",
      "5000  Number Size - Time Taken: 1861.273\n",
      "merge_sort\n",
      "100  Number Size - Time Taken: 0.224\n",
      "250  Number Size - Time Taken: 0.999\n",
      "500  Number Size - Time Taken: 1.924\n",
      "750  Number Size - Time Taken: 2.923\n",
      "1000  Number Size - Time Taken: 4.109\n",
      "1250  Number Size - Time Taken: 5.663\n",
      "2500  Number Size - Time Taken: 13.466\n",
      "3750  Number Size - Time Taken: 19.211\n",
      "5000  Number Size - Time Taken: 27.54\n",
      "count_sort\n",
      "100  Number Size - Time Taken: 0.0\n",
      "250  Number Size - Time Taken: 0.222\n",
      "500  Number Size - Time Taken: 0.113\n",
      "750  Number Size - Time Taken: 0.111\n",
      "1000  Number Size - Time Taken: 0.223\n",
      "1250  Number Size - Time Taken: 0.223\n",
      "2500  Number Size - Time Taken: 0.444\n",
      "3750  Number Size - Time Taken: 0.777\n",
      "5000  Number Size - Time Taken: 0.888\n"
     ]
    }
   ],
   "source": [
    "main()"
   ]
  },
  {
   "cell_type": "code",
   "execution_count": 60,
   "metadata": {},
   "outputs": [
    {
     "name": "stdout",
     "output_type": "stream",
     "text": [
      "Sample Size   100    250     500     750     1000     1250     2500      3750  \\\n",
      "Function                                                                        \n",
      "bubble_sort  0.999  4.886  13.899  33.205  58.799  117.600  446.302  1014.864   \n",
      "count_sort   0.000  0.222   0.113   0.111   0.223    0.223    0.444     0.777   \n",
      "merge_sort   0.224  0.999   1.924   2.923   4.109    5.663   13.466    19.211   \n",
      "\n",
      "Sample Size      5000  \n",
      "Function               \n",
      "bubble_sort  1861.273  \n",
      "count_sort      0.888  \n",
      "merge_sort     27.540  \n"
     ]
    }
   ],
   "source": [
    "df = pd.DataFrame(bench_values_time)\n",
    "df.columns = ['Function', 'Sample Size', 'Time Taken']\n",
    "df_restructure = df.pivot(index='Function', columns='Sample Size', values='Time Taken')\n",
    "print(df_restructure)"
   ]
  },
  {
   "cell_type": "code",
   "execution_count": null,
   "metadata": {},
   "outputs": [],
   "source": []
  },
  {
   "cell_type": "code",
   "execution_count": null,
   "metadata": {},
   "outputs": [],
   "source": []
  },
  {
   "cell_type": "code",
   "execution_count": null,
   "metadata": {},
   "outputs": [],
   "source": []
  },
  {
   "cell_type": "code",
   "execution_count": null,
   "metadata": {},
   "outputs": [],
   "source": []
  }
 ],
 "metadata": {
  "kernelspec": {
   "display_name": "Python 3",
   "language": "python",
   "name": "python3"
  },
  "language_info": {
   "codemirror_mode": {
    "name": "ipython",
    "version": 3
   },
   "file_extension": ".py",
   "mimetype": "text/x-python",
   "name": "python",
   "nbconvert_exporter": "python",
   "pygments_lexer": "ipython3",
   "version": "3.7.1"
  }
 },
 "nbformat": 4,
 "nbformat_minor": 4
}
