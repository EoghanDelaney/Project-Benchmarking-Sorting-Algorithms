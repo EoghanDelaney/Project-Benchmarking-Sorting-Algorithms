{
 "cells": [
  {
   "cell_type": "markdown",
   "metadata": {},
   "source": [
    "# Project: Benchmarking Sorting Algorithms"
   ]
  },
  {
   "cell_type": "markdown",
   "metadata": {},
   "source": [
    "## Introduction\n",
    "***"
   ]
  },
  {
   "cell_type": "markdown",
   "metadata": {},
   "source": [
    "### Concepts of Sorting "
   ]
  },
  {
   "cell_type": "markdown",
   "metadata": {},
   "source": [
    "The purpose of this assignment is to use Python to evaluate/benchmark five different sorting algorithims.\n",
    "Sorting algorithims are used to manipulate data into a desired sequence or order. An example of this would include re-ordering the following list to \"sort\" it into numerical order.\n",
    "    [6,9,3,4,8,7] -> [3,4,6,8,7,9]\n",
    "\n",
    "There are a number of different factors to consider when a computer algorithim \"sorts\" data.\n",
    "1. Complexity: \n",
    "\n",
    "In relation to algorithims, complexity is how the resources scale with the increasing demand of a larger dataset. As the input sizes increase, so too does the time taken to execute the sort. Space complexity can be seen as the amount of disk space for the alogrithm to sit atop. As the alogrithm executes, does it require further disk space? Also time complexity is worth consideration when determining the complexitiy of an algorithim - best, average and worst case time complexity. The best case would be the Omega notation when the data is pre-sorted to the desired sequence; the worst case would be Big-O notation, when the data is ordered in exactly the opposite sequence required - meaning all values in the list need to move. Finally, the average case Theta notation (which is average time taken for the alogrithim to execute) can be more dificult to determine.\n",
    "2. Performance:\n",
    "\n",
    "Performance is the real time execution of the algorithim. This can be affected by a number of factors - machine performance, specification, the code or compiler. Complexity can affect performance, but performance cannot affect complexity.   \n",
    "3. In-place sorting\n",
    "\n",
    "In-place sorting algorithims require no further calculation disk space when executing. As the input size increases no additonal space is required for processing the data.\n",
    "4. Stable sorting\n",
    "\n",
    "\"A sorting algorithim is said to be stable if two objects with equal keys appear in the same order in sorted output as they appear in the input array to be sorted.\" [1]\n",
    "5. Comparator functions\n",
    "\n",
    "A comparator function is a piece of code, when executed, two parameters are passed in - it can determine if one is greater, equal or less than the other.\n",
    "6. Comparison-based sorts\n",
    "\n",
    "Comparison-based sorts are sorting alogrithms that implement the above \"comparator function\". We can sort a list of items by comparing their values to one another. If i is less than j, move i to the left until the list is sorted in numerical order. Some examples of comparsion based sorts will be discussed further below - Bubble, Selection and Insertion Sorts.\n",
    "7. Non-comparison-based sorts\n",
    "\n",
    "Unlike comparison-based sorts, non-comparison-based sorts do not evaluate a comparison between two items in a list. Counting Sort is a type of non-comparison-based sort and will be discussed further.\n",
    "\n",
    "In this assignment, we will now review and benchmark five sorting algorithims - The Bubble Sort, Merge Sort, Count Sort, Selection Sort and Insertion Sort."
   ]
  },
  {
   "cell_type": "markdown",
   "metadata": {},
   "source": [
    "## Sorting Algorithms\n",
    "***"
   ]
  },
  {
   "cell_type": "markdown",
   "metadata": {},
   "source": [
    "### Bubble Sort\n"
   ]
  },
  {
   "cell_type": "markdown",
   "metadata": {},
   "source": [
    "The bubble sort is said to be one of the most straightforward sorting algorithms, comparing the first item in a list with its neighbour to the right and swapping to the desired outcome. The code iterates over the list comparing and moving inputs where required.\n",
    "\n",
    "The best case for the bubble sort is input \"n\" where all the values are pre-sorted to the desired secquence, while the worst case is n2 reviewing the array n2 times and as the number of inputs increases, therefore so too does the time taken to execute the sort. \n",
    "\n",
    "Below is an example of how the Sort works. We are given the \"in Array - (6, 2, 1, 3)\" the sort is required to output the same list in numerical order (1, 2, 3, 6). The alogrithm begins in position P1 (6) and reviews the value in P2. Six is greater than two therefore the positions are switched. We then progress to step two, P2 (6) is then compared to P3 (1) and the same switch is carried out. The function iterates over all of the list indices until the list is sorted at step n.   \n",
    " \n",
    "![Bubble Sort](images/bubble_sort.PNG)"
   ]
  },
  {
   "cell_type": "markdown",
   "metadata": {},
   "source": [
    "### Merge Sort"
   ]
  },
  {
   "cell_type": "markdown",
   "metadata": {},
   "source": [
    "Merge sort is the algorithm of repeatedly/recursively splitting the list into smaller sub-lists until we are left with single values, we can then combine the list by merging them together in the correct order. The merge sort has a best, worst and average case of nlogn or linearithmic complexity. The merge sort is also stable.\n",
    "\n",
    "The merge sort shown below, similar to the bubble sort, have the same array (6, 2, 1, 3).  The merge sort in steps 1 - recursively divides the array into small groups of numbers ending with single values. Once complete the merge steps 3-4 begin. The algorithm orders the values numerically from step 2. This is then repeated from 3-4 until the list is sorted in step 4.\n",
    "\n",
    "\n",
    "![Merge Sort](images/merge_sort1.PNG)\n"
   ]
  },
  {
   "cell_type": "markdown",
   "metadata": {},
   "source": [
    "### Counting Sort"
   ]
  },
  {
   "cell_type": "markdown",
   "metadata": {},
   "source": [
    "Counting sort is a non-comparison sort. In order to achieve this we must make a number of assumptions in relation to the input data - each item must be a positive integer with a range or band of k, the spread of the values are assumed to be k. O(n) is the minimum sorting time possible and the Big-O, Omega, and Theta of the counting sort is n+k. Therefore, as the input sizes increases, the influence k has on the time complexity decreases. The counting sort is also a stable sort.\n",
    "\n",
    "The Counting Sort is shown as follows. Firstly, we need to determine the range k if not already known, we generate a list of all the unique values in the list n. For each value in list k we can count every time the value appears in list n. The count total of k should equal the overall total length of n. We can then re-order the list based on the number of values k. Starting with the lowest value \"3\" there are three number instances of this value, we then have a value of \"6\", one \"7\", one \"8\" and four \"9\".\n",
    "\n",
    "![Counting Sort](images/counting_sort.PNG)"
   ]
  },
  {
   "cell_type": "markdown",
   "metadata": {},
   "source": [
    "### Selection Sort"
   ]
  },
  {
   "cell_type": "markdown",
   "metadata": {},
   "source": [
    "The selection sort is a comparison based algorithm. It is an unstable, in-place sort with a time complexity of n2 in best, worst and average cases. The algorithm procedure is to review the left most value in the array and compares it with all other values swapping where necessary.\n",
    "\n",
    "Shown below is an example of a selection sort. The algorithm selects the left most value of the array and reviews each value in each of the indices to the right, switching it with the smallest value. In this case, one is less than six, therefore they are switched. The steps are then repeated for position P2 and the values to the right are all larger, so nothing changes. It is then reviewed for position P3 in step three swapping \"6\" and \"3\".\n",
    "\n",
    "![Counting Sort](images/selection_sort.PNG)"
   ]
  },
  {
   "cell_type": "markdown",
   "metadata": {},
   "source": [
    "### Insertion Sort"
   ]
  },
  {
   "cell_type": "markdown",
   "metadata": {},
   "source": [
    "Insertion sort is stable, in-place algorithm. This sort works well with smaller lists or lists that are near being sorted. The insertion sort has a best case time complexity of n, while the worst and average case is n2. Similar to the above examples we begin in the left index moving to the right, examining each item and comparing it to items on its left [2]. \n",
    "\n",
    "Shown below is an example of the insertion sort. We begin in the left most index, as there is no values to the left we assume it is sorted. Step 2 we move to the next value P2 as it is less than \"6\" we insert it into P1. We then review P3 \"1\" as it is less than the current value in P1 we insert \"1\" into P1, moving all the values up one. The final check is the value in P4 \"3\". The value is less than \"6\" but greater than both \"1\" and \"2\" so we insert \"3\" into P3.\n",
    "\n",
    "![Counting Sort](images/insertion_sort.PNG)"
   ]
  },
  {
   "cell_type": "markdown",
   "metadata": {},
   "source": [
    "## Implementation & Benchmarking\n",
    "***"
   ]
  },
  {
   "cell_type": "markdown",
   "metadata": {},
   "source": [
    "We then carried out the benchmarking of the five above algorithims - Bubble Sort, Merge Sort, Count Sort, Selection Sort and finally Insertion Sort. Firstly importing all the required packages."
   ]
  },
  {
   "cell_type": "code",
   "execution_count": 129,
   "metadata": {},
   "outputs": [],
   "source": [
    "#Import packages required\n",
    "import numpy as np\n",
    "import pandas as pd    \n",
    "import matplotlib.pyplot as plt\n",
    "import time"
   ]
  },
  {
   "cell_type": "markdown",
   "metadata": {},
   "source": [
    "We then define all the sorting function."
   ]
  },
  {
   "cell_type": "markdown",
   "metadata": {},
   "source": [
    "Bubble Sort\n",
    "***"
   ]
  },
  {
   "cell_type": "code",
   "execution_count": 1,
   "metadata": {},
   "outputs": [],
   "source": [
    "#The below Bubble sort is adapted from the following website:\n",
    "#https://www.geeksforgeeks.org/python-program-for-bubble-sort/\n",
    "def bubble_sort(arr):\n",
    "    num_in_list = len(arr)\n",
    "    for i in range(num_in_list):\n",
    "        for j in range(0, num_in_list-i-1):  # The above is to determine the locations in the array i and the value to the right j\n",
    "            if arr[j] > arr[j+1] :           # If j is less than j+1 or the value to the right\n",
    "                arr[j], arr[j+1] = arr[j+1], arr[j] # Switch them\n"
   ]
  },
  {
   "cell_type": "markdown",
   "metadata": {},
   "source": [
    "Merge Sort\n",
    "***"
   ]
  },
  {
   "cell_type": "code",
   "execution_count": 131,
   "metadata": {},
   "outputs": [],
   "source": [
    "#The below Merge sort is adapted from the following website:\n",
    "#https://www.educative.io/edpresso/merge-sort-in-python\n",
    "def merge_sort(arr):\n",
    "    if len(arr) > 1:\n",
    "        mid = len(arr) // 2 # Identify the middle of the array\n",
    "        left = arr[:mid]    # Split the left \n",
    "        right = arr[mid:]   # Split the right\n",
    "\n",
    "        merge_sort(left)    # Recursively split the left \n",
    "        merge_sort(right)   # Recursively split the right\n",
    "        i = 0\n",
    "        j = 0\n",
    "        k = 0\n",
    "        # We now re-order the array\n",
    "        while i < len(left) and j < len(right):\n",
    "            if left[i] < right[j]:\n",
    "              # Selecting the left\n",
    "              arr[k] = left[i]\n",
    "              # Move to the next position of the array\n",
    "              i += 1\n",
    "            else:\n",
    "                arr[k] = right[j]\n",
    "                j += 1\n",
    "            # Move to the next position \n",
    "            k += 1\n",
    "        # Complete for the balance\n",
    "        while i < len(left):\n",
    "            arr[k] = left[i]\n",
    "            i += 1\n",
    "            k += 1\n",
    "\n",
    "        while j < len(right):\n",
    "            arr[k]=right[j]\n",
    "            j += 1\n",
    "            k += 1"
   ]
  },
  {
   "cell_type": "markdown",
   "metadata": {},
   "source": [
    "Count Sort\n",
    "***"
   ]
  },
  {
   "cell_type": "code",
   "execution_count": 132,
   "metadata": {},
   "outputs": [],
   "source": [
    "#The below Counting sort is adapted from the following website:\n",
    "#https://www.w3resource.com/python-exercises/data-structures-and-algorithms/python-search-and-sorting-exercise-10.php\n",
    "def count_sort(arr):  \n",
    "    max_val = max(arr)   # Determine the max value in the array\n",
    "    m = max_val + 1      # Max Value + 1\n",
    "    count = [0] * m      \n",
    "    for a in arr:        # Loop through the array\n",
    "        count[a] += 1    # Call the count method above\n",
    "    i = 0\n",
    "    for a in range(m):             # Now plot the array \n",
    "        for c in range(count[a]):  # Calling all values for each \n",
    "            arr[i] = a\n",
    "            i += 1\n",
    "    return arr"
   ]
  },
  {
   "cell_type": "markdown",
   "metadata": {},
   "source": [
    "Selection Sort\n",
    "***"
   ]
  },
  {
   "cell_type": "code",
   "execution_count": 133,
   "metadata": {},
   "outputs": [],
   "source": [
    "# The below Selection sort is adapted from the following website:\n",
    "#https://www.geeksforgeeks.org/python-program-for-selection-sort/\n",
    "def selection_sort(arr):\n",
    "    for i in range(len(arr)): \n",
    "        min_idx = i                                      # Index of the min value\n",
    "        for j in range(i+1, len(arr)):                   # loop through the array\n",
    "            if arr[min_idx] > arr[j]: \n",
    "                min_idx = j \n",
    "        arr[i], arr[min_idx] = arr[min_idx], arr[i]\n"
   ]
  },
  {
   "cell_type": "markdown",
   "metadata": {},
   "source": [
    "Insertion Sort\n",
    "***"
   ]
  },
  {
   "cell_type": "code",
   "execution_count": 134,
   "metadata": {},
   "outputs": [],
   "source": [
    "# The below Selection sort is adapted from the following website:\n",
    "#https://www.geeksforgeeks.org/insertion-sort/\n",
    "def insertion_sort(arr):\n",
    "    for i in range(1, len(arr)):           # Iterate through the array\n",
    "        key = arr[i] \n",
    "        j = i-1\n",
    "        while j >= 0 and key < arr[j] :    # Loop through the characters to the right - if less swap the values.\n",
    "                arr[j + 1] = arr[j] \n",
    "                j -= 1\n",
    "        arr[j + 1] = key \n"
   ]
  },
  {
   "cell_type": "markdown",
   "metadata": {},
   "source": [
    "Once all five functions are declared we now need random data to sort in various different sizes. The benchmarking of each can begin."
   ]
  },
  {
   "cell_type": "markdown",
   "metadata": {},
   "source": [
    "### Benchmarking\n",
    "***"
   ]
  },
  {
   "cell_type": "markdown",
   "metadata": {},
   "source": [
    "In order to benchamark the sorting algorithims we must execute them and compare them to one another to determine the length of time each function takes. Each function is executed multiple times - changing the input value n for the random data. The below function uses the below random data generater to sort a list of numbers 100,250,500... each list is repeated 10 times to determine an average length of time (in miliseconds) the sort takes to complete. The time taken along with sorted list sizes n is added to a list. Each of these datapoints are key to understanding what happens as the input size increases."
   ]
  },
  {
   "cell_type": "markdown",
   "metadata": {},
   "source": [
    "Generate Random Data\n",
    "***"
   ]
  },
  {
   "cell_type": "code",
   "execution_count": 142,
   "metadata": {},
   "outputs": [],
   "source": [
    "#generate random int's in array of length number n\n",
    "def generate_arr(n):\n",
    "    arr = np.random.randint(0,100,n).tolist()            # Generate multiple random numbers between 0 and 100 to a list of size n\n",
    "    return arr"
   ]
  },
  {
   "cell_type": "code",
   "execution_count": 136,
   "metadata": {},
   "outputs": [],
   "source": [
    "bench_values_time = []                                                                                      # Here we store the average time taken for each instance of n for each function \n",
    "\n",
    "def evaluate(func, run_avg):                                                                                # Decalre the function and the number of running times\n",
    "    val_n = [100, 250, 500, 750, 1000, 1250, 2500, 3750, 5000, 6250, 7500, 8750, 10000]                     # List of n values\n",
    "    for n in val_n:                                                                                         # Loop through each value for n for the above function\n",
    "        arr = generate_arr(n)                                                                               # Execute \"the generate a random list\" function of numbers of length/size n\n",
    "        start_time = time.time()                                                                            # Declare the start time \n",
    "        for i in range(0, run_avg):                                                                         # Loop over the function a number \"run_avg\" of times\n",
    "            func(arr)                                                                                       # Execute the Sort with the array of size n\n",
    "        finish_time = time.time()                                                                           # Declare the start time\n",
    "        time_elapsed = finish_time - start_time                                                             # Calculate the time taken for the function to be executed \"run_avg\" times\n",
    "        time_elapsed = round((time_elapsed*1000)/run_avg,3)                                                 # Get the average time for one sort rounded to 3 decimal places\n",
    "        bench_values_time.append([func.__name__, n, time_elapsed])                                          # Add the \"function name\", \"sample size\" and \"time taken\" to the benchmark list\n",
    "        print(str(n), \" Number Size - Time Taken:\", time_elapsed)                                           # Print the three above variables to the console\n"
   ]
  },
  {
   "cell_type": "markdown",
   "metadata": {},
   "source": [
    "The below main function then brings all the sort and benchmark functions together."
   ]
  },
  {
   "cell_type": "code",
   "execution_count": 137,
   "metadata": {},
   "outputs": [],
   "source": [
    "def main():\n",
    "    function_list = [bubble_sort, merge_sort, count_sort, selection_sort, insertion_sort]\n",
    "    for fun in function_list:\n",
    "        print(fun.__name__)\n",
    "        evaluate(fun, 9)"
   ]
  },
  {
   "cell_type": "code",
   "execution_count": 138,
   "metadata": {},
   "outputs": [
    {
     "name": "stdout",
     "output_type": "stream",
     "text": [
      "bubble_sort\n",
      "100  Number Size - Time Taken: 0.999\n",
      "250  Number Size - Time Taken: 5.332\n",
      "500  Number Size - Time Taken: 18.544\n",
      "750  Number Size - Time Taken: 44.308\n",
      "1000  Number Size - Time Taken: 83.286\n",
      "1250  Number Size - Time Taken: 116.156\n",
      "2500  Number Size - Time Taken: 440.193\n",
      "3750  Number Size - Time Taken: 1052.953\n",
      "5000  Number Size - Time Taken: 1911.687\n",
      "6250  Number Size - Time Taken: 2890.682\n",
      "7500  Number Size - Time Taken: 4258.902\n",
      "8750  Number Size - Time Taken: 5739.168\n",
      "10000  Number Size - Time Taken: 7451.188\n",
      "merge_sort\n",
      "100  Number Size - Time Taken: 0.222\n",
      "250  Number Size - Time Taken: 0.998\n",
      "500  Number Size - Time Taken: 3.22\n",
      "750  Number Size - Time Taken: 3.553\n",
      "1000  Number Size - Time Taken: 5.332\n",
      "1250  Number Size - Time Taken: 5.554\n",
      "2500  Number Size - Time Taken: 14.438\n",
      "3750  Number Size - Time Taken: 21.876\n",
      "5000  Number Size - Time Taken: 29.315\n",
      "6250  Number Size - Time Taken: 45.641\n",
      "7500  Number Size - Time Taken: 49.971\n",
      "8750  Number Size - Time Taken: 53.749\n",
      "10000  Number Size - Time Taken: 62.964\n",
      "count_sort\n",
      "100  Number Size - Time Taken: 0.0\n",
      "250  Number Size - Time Taken: 0.113\n",
      "500  Number Size - Time Taken: 0.111\n",
      "750  Number Size - Time Taken: 0.222\n",
      "1000  Number Size - Time Taken: 0.222\n",
      "1250  Number Size - Time Taken: 0.224\n",
      "2500  Number Size - Time Taken: 1.111\n",
      "3750  Number Size - Time Taken: 1.555\n",
      "5000  Number Size - Time Taken: 0.999\n",
      "6250  Number Size - Time Taken: 2.11\n",
      "7500  Number Size - Time Taken: 2.665\n",
      "8750  Number Size - Time Taken: 2.222\n",
      "10000  Number Size - Time Taken: 1.777\n",
      "selection_sort\n",
      "100  Number Size - Time Taken: 0.446\n",
      "250  Number Size - Time Taken: 2.332\n",
      "500  Number Size - Time Taken: 12.105\n",
      "750  Number Size - Time Taken: 28.65\n",
      "1000  Number Size - Time Taken: 53.524\n",
      "1250  Number Size - Time Taken: 78.955\n",
      "2500  Number Size - Time Taken: 339.919\n",
      "3750  Number Size - Time Taken: 711.037\n",
      "5000  Number Size - Time Taken: 1384.655\n",
      "6250  Number Size - Time Taken: 2009.741\n",
      "7500  Number Size - Time Taken: 2875.691\n",
      "8750  Number Size - Time Taken: 3889.445\n",
      "10000  Number Size - Time Taken: 5142.73\n",
      "insertion_sort\n",
      "100  Number Size - Time Taken: 0.0\n",
      "250  Number Size - Time Taken: 0.335\n",
      "500  Number Size - Time Taken: 1.664\n",
      "750  Number Size - Time Taken: 3.333\n",
      "1000  Number Size - Time Taken: 5.885\n",
      "1250  Number Size - Time Taken: 10.548\n",
      "2500  Number Size - Time Taken: 40.975\n",
      "3750  Number Size - Time Taken: 95.168\n",
      "5000  Number Size - Time Taken: 176.899\n",
      "6250  Number Size - Time Taken: 268.069\n",
      "7500  Number Size - Time Taken: 386.779\n",
      "8750  Number Size - Time Taken: 540.803\n",
      "10000  Number Size - Time Taken: 686.828\n"
     ]
    }
   ],
   "source": [
    "main()     # We then call the main function"
   ]
  },
  {
   "cell_type": "markdown",
   "metadata": {},
   "source": [
    "We can then plot the above output in a different table format shown below:"
   ]
  },
  {
   "cell_type": "code",
   "execution_count": 139,
   "metadata": {},
   "outputs": [
    {
     "name": "stdout",
     "output_type": "stream",
     "text": [
      "Sample Size     100    250     500     750     1000     1250     2500   \\\n",
      "Function                                                                 \n",
      "bubble_sort     0.999  5.332  18.544  44.308  83.286  116.156  440.193   \n",
      "count_sort      0.000  0.113   0.111   0.222   0.222    0.224    1.111   \n",
      "insertion_sort  0.000  0.335   1.664   3.333   5.885   10.548   40.975   \n",
      "merge_sort      0.222  0.998   3.220   3.553   5.332    5.554   14.438   \n",
      "selection_sort  0.446  2.332  12.105  28.650  53.524   78.955  339.919   \n",
      "\n",
      "Sample Size        3750      5000      6250      7500      8750      10000  \n",
      "Function                                                                    \n",
      "bubble_sort     1052.953  1911.687  2890.682  4258.902  5739.168  7451.188  \n",
      "count_sort         1.555     0.999     2.110     2.665     2.222     1.777  \n",
      "insertion_sort    95.168   176.899   268.069   386.779   540.803   686.828  \n",
      "merge_sort        21.876    29.315    45.641    49.971    53.749    62.964  \n",
      "selection_sort   711.037  1384.655  2009.741  2875.691  3889.445  5142.730  \n"
     ]
    }
   ],
   "source": [
    "df = pd.DataFrame(bench_values_time)\n",
    "df.columns = ['Function', 'Sample Size', 'Time Taken']\n",
    "df_restructure = df.pivot(index='Function', columns='Sample Size', values='Time Taken')\n",
    "print(df_restructure)"
   ]
  },
  {
   "cell_type": "markdown",
   "metadata": {},
   "source": [
    "We then plot the data on a graph to gain a better perspective of the sort algorithms behaviour, as the input value n increases."
   ]
  },
  {
   "cell_type": "code",
   "execution_count": 140,
   "metadata": {},
   "outputs": [
    {
     "data": {
      "image/png": "[encoded data removed]",
      "text/plain": [
       "<Figure size 1440x720 with 1 Axes>"
      ]
     },
     "metadata": {
      "needs_background": "light"
     },
     "output_type": "display_data"
    }
   ],
   "source": [
    "plot = df_restructure.T.iloc[:].plot(style='-o', figsize=(20, 10))\n",
    "plot.set(xlabel=\"Input n\", ylabel=\"running time-milliseconds\")\n",
    "plt.legend()\n",
    "plt.show()"
   ]
  },
  {
   "cell_type": "markdown",
   "metadata": {},
   "source": [
    "### Conclusion\n",
    "***"
   ]
  },
  {
   "cell_type": "markdown",
   "metadata": {},
   "source": [
    "In conclusion, we can now review the above graph for each average case, for each algorithm, as the input size increases. Previously, we reviewed the theta notation (average) for each of the Sorts and we can compare the theoretical versus the practical benchmarking. All algorithms are shown on the graph. The expected average case for each algorithms are:\n",
    "1. Bubble Sort: n^2 or quadratic\n",
    "2. Selection Sort: n^2 or quadratic\n",
    "3. Insertion Sort: n^2 or quadratic\n",
    "4. Merge Sort: nlogn or linearithmic\n",
    "5. Counting Sort: n+k or linear\n",
    "\n",
    "After reviewing the theoretical expected results versus the obtained results, the Bubble Sort and Selection Sort carry the characteristics of a quadratic complexity over time. The Bubble sort has the most severe growth rate, as the input size increases while the insertion sort has less rapid growth over time. The average expected complexity for the Insertion sort is a quadratic however the graph represents an n distribution which is more in line with a best case or Omega notation of n (linear). The expected behaviour of Merge Sort and the Counting Sort are linearithmic and linear respectively, the practical examples confirm that for the Merge sort. It is however expected that the Count sort performs less efficiently than the Merge Sort, this is not the case.\n",
    "\n",
    "In conclusion all algorithms have been executed and benchmarked above, the expected results have been achieved for three out of the five Sorts. The Insertion Sort achieved the Best Case time complexity while the Count Sort behaved in a manner that was unexpected."
   ]
  },
  {
   "cell_type": "markdown",
   "metadata": {},
   "source": [
    "References\n",
    "***"
   ]
  },
  {
   "cell_type": "markdown",
   "metadata": {},
   "source": [
    "[1] Stability in sorting alogrithms https://www.geeksforgeeks.org/stability-in-sorting-algorithms/\n",
    "\n",
    "[2] Insertion sort in 2 minutes https://www.youtube.com/watch?v=JU767SDMDvA"
   ]
  },
  {
   "cell_type": "code",
   "execution_count": null,
   "metadata": {},
   "outputs": [],
   "source": []
  }
 ],
 "metadata": {
  "kernelspec": {
   "display_name": "Python 3",
   "language": "python",
   "name": "python3"
  },
  "language_info": {
   "codemirror_mode": {
    "name": "ipython",
    "version": 3
   },
   "file_extension": ".py",
   "mimetype": "text/x-python",
   "name": "python",
   "nbconvert_exporter": "python",
   "pygments_lexer": "ipython3",
   "version": "3.7.1"
  }
 },
 "nbformat": 4,
 "nbformat_minor": 4
}
